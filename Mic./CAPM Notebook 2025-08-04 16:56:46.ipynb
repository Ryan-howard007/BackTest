{
 "cells": [
  {
   "cell_type": "code",
   "execution_count": 0,
   "metadata": {
    "application/vnd.databricks.v1+cell": {
     "cellMetadata": {
      "byteLimit": 2048000,
      "rowLimit": 10000
     },
     "inputWidgets": {},
     "nuid": "be884237-9faf-42b6-bbd2-14baa9dc2ed7",
     "showTitle": false,
     "tableResultSettingsMap": {},
     "title": ""
    }
   },
   "outputs": [],
   "source": [
    "import pandas as pd\n",
    "from datetime import datetime"
   ]
  },
  {
   "cell_type": "code",
   "execution_count": 0,
   "metadata": {
    "application/vnd.databricks.v1+cell": {
     "cellMetadata": {
      "byteLimit": 2048000,
      "rowLimit": 10000
     },
     "inputWidgets": {},
     "nuid": "63c8ce5a-1b6a-4f0b-a1e1-1e4e124975a0",
     "showTitle": false,
     "tableResultSettingsMap": {},
     "title": ""
    }
   },
   "outputs": [],
   "source": [
    "spark.catalog.setCurrentDatabase(\"default\")"
   ]
  },
  {
   "cell_type": "code",
   "execution_count": 0,
   "metadata": {
    "application/vnd.databricks.v1+cell": {
     "cellMetadata": {
      "byteLimit": 2048000,
      "rowLimit": 10000
     },
     "inputWidgets": {},
     "nuid": "923e86be-f7c2-4114-92be-3b75c84f4b0e",
     "showTitle": false,
     "tableResultSettingsMap": {},
     "title": ""
    }
   },
   "outputs": [],
   "source": [
    "df1=spark.table('sw_hot_table').toPandas()\n",
    "df2=spark.table('Market').toPandas()\n",
    "merged=pd.merge(df1,df2,on='Date',how='inner')"
   ]
  },
  {
   "cell_type": "code",
   "execution_count": 0,
   "metadata": {
    "application/vnd.databricks.v1+cell": {
     "cellMetadata": {
      "byteLimit": 2048000,
      "rowLimit": 10000
     },
     "inputWidgets": {},
     "nuid": "0d4c40ea-e3b4-45c7-a496-465e8752f602",
     "showTitle": false,
     "tableResultSettingsMap": {},
     "title": ""
    }
   },
   "outputs": [],
   "source": [
    "# Compute daily return\n",
    "df1=df1.sort_values('Date').reset_index(drop=True)\n",
    "df2=df2.sort_values('Date').reset_index(drop=True)\n",
    "df1['Stock_Return'] = df1['Close_Price'].pct_change() * 100\n",
    "df2['Market_Return'] = df2['Sensex_Close'].pct_change() * 100"
   ]
  },
  {
   "cell_type": "code",
   "execution_count": 0,
   "metadata": {
    "application/vnd.databricks.v1+cell": {
     "cellMetadata": {
      "byteLimit": 2048000,
      "rowLimit": 10000
     },
     "inputWidgets": {},
     "nuid": "9dc9bb50-006b-435c-a3ed-9b19516c3086",
     "showTitle": false,
     "tableResultSettingsMap": {},
     "title": ""
    }
   },
   "outputs": [],
   "source": [
    "df1=df1[['Date','Close_Price','Stock_Return']]\n",
    "df2=df2[['Date','Sensex_Close','Market_Return']]\n",
    "merged_data=pd.merge(df1,df2,on='Date',how='inner')\n",
    "three_year_covariance_matrix=merged_data[['Stock_Return','Market_Return']].cov()\n",
    "Beta_3_Years=three_year_covariance_matrix.iloc[0,1]/three_year_covariance_matrix.iloc[1,1]\n",
    "\n",
    "\n",
    "#latest_traded_date=df2['Date'].iloc[-1]\n",
    "latest_traded_date=df2['Date'].max()\n",
    "one_year_covariance_matrix_filter=merged_data[merged_data['Date']>=latest_traded_date - pd.DateOffset(months=12)]\n",
    "one_year_covariance_matrix=one_year_covariance_matrix_filter[['Stock_Return','Market_Return']].cov()\n",
    "Beta_1_Year=one_year_covariance_matrix.iloc[0,1]/one_year_covariance_matrix.iloc[1,1]\n",
    "print(Beta_3_Years,Beta_1_Year)"
   ]
  },
  {
   "cell_type": "code",
   "execution_count": 0,
   "metadata": {
    "application/vnd.databricks.v1+cell": {
     "cellMetadata": {
      "byteLimit": 2048000,
      "rowLimit": 10000
     },
     "inputWidgets": {},
     "nuid": "220dc31e-327b-405c-bcd2-5b24f3c3d5d7",
     "showTitle": false,
     "tableResultSettingsMap": {},
     "title": ""
    }
   },
   "outputs": [],
   "source": [
    "#CAPM\n",
    "Rf=6\n",
    "Market_Return_1_Year = (one_year_covariance_matrix_filter['Market_Return'].mean()) * 252\n",
    "expected_rate_of_return_1_Year= Rf + (Beta_1_Year*(Market_Return_1_Year-Rf))\n",
    "print(expected_rate_of_return_1_Year.round(3))\n",
    "#print(((merged['Close_Price'].iloc[-1]/merged['Close_Price'].iloc[0] -1)*100).round(3))\n",
    "print(((one_year_covariance_matrix_filter['Close_Price'].iloc[-1]/one_year_covariance_matrix_filter['Close_Price'].iloc[0] -1)*100).round(3))"
   ]
  },
  {
   "cell_type": "code",
   "execution_count": 0,
   "metadata": {
    "application/vnd.databricks.v1+cell": {
     "cellMetadata": {
      "byteLimit": 2048000,
      "rowLimit": 10000
     },
     "inputWidgets": {},
     "nuid": "d1ffb5ca-210e-41fd-8208-3c17ad806aa7",
     "showTitle": false,
     "tableResultSettingsMap": {},
     "title": ""
    }
   },
   "outputs": [],
   "source": [
    "#CAPM 3 Years\n",
    "Rf=6\n",
    "Market_Return_3_Years = (merged_data['Market_Return'].mean())*252\n",
    "expected_rate_of_return_3_Year=Rf+(Beta_3_Years*(Market_Return_3_Years-Rf))\n",
    "print(expected_rate_of_return_3_Year.round(3))\n",
    "print(((df1['Close_Price'].iloc[-1]/df1['Close_Price'].iloc[0] -1)*100).round(3))"
   ]
  },
  {
   "cell_type": "code",
   "execution_count": 0,
   "metadata": {
    "application/vnd.databricks.v1+cell": {
     "cellMetadata": {
      "byteLimit": 2048000,
      "implicitDf": true,
      "rowLimit": 10000
     },
     "inputWidgets": {},
     "nuid": "c3da7512-7a8f-43db-83a8-1bf7fdeef4ab",
     "showTitle": false,
     "tableResultSettingsMap": {},
     "title": ""
    }
   },
   "outputs": [],
   "source": [
    "%sql\n",
    "--CREATE OR REPLACE TABLE CAPM_Metrics (\n",
    "  --Metric_Date DATE,\n",
    "  --Beta_3_Years DOUBLE,\n",
    "  --CAPM_3_Years DOUBLE,\n",
    "  --Actual_3_Years_Returns DOUBLE,\n",
    "  --Beta_1_Year DOUBLE,\n",
    "  --CAPM_1_Year DOUBLE,\n",
    "  --Actual_1_Year_Return DOUBLE\n",
    "--) USING delta"
   ]
  },
  {
   "cell_type": "code",
   "execution_count": 0,
   "metadata": {
    "application/vnd.databricks.v1+cell": {
     "cellMetadata": {
      "byteLimit": 2048000,
      "rowLimit": 10000
     },
     "inputWidgets": {},
     "nuid": "9614680e-5397-403b-9bfc-3cb5b738a0e0",
     "showTitle": false,
     "tableResultSettingsMap": {},
     "title": ""
    }
   },
   "outputs": [],
   "source": [
    "capm_metrics = pd.DataFrame({\n",
    "    'Metric_Date': [datetime.now().date()],\n",
    "    'Beta_1_Year': [(one_year_covariance_matrix.iloc[0,1]/one_year_covariance_matrix.iloc[1,1]).round(3)],\n",
    "    'CAPM_3_Years': [expected_rate_of_return_3_Year.round(3)],\n",
    "    'Actual_3_Years_Returns': [((df1['Close_Price'].iloc[-1] / df1['Close_Price'].iloc[0] - 1) * 100).round(3)],\n",
    "    'CAPM_1_Year': [expected_rate_of_return_1_Year.round(3)],\n",
    "    'Beta_3_Years':[(three_year_covariance_matrix.iloc[0,1]/three_year_covariance_matrix.iloc[1,1]).round(3)],\n",
    "    'Actual_1_Year_Return': [((one_year_covariance_matrix_filter['Close_Price'].iloc[-1] / one_year_covariance_matrix_filter['Close_Price'].iloc[0] - 1) * 100).round(3)]\n",
    "})\n",
    "\n",
    "capm_metrics_spark = spark.createDataFrame(capm_metrics)\n",
    "capm_metrics_spark.createOrReplaceTempView(\"updates\")"
   ]
  },
  {
   "cell_type": "code",
   "execution_count": 0,
   "metadata": {
    "application/vnd.databricks.v1+cell": {
     "cellMetadata": {
      "byteLimit": 2048000,
      "implicitDf": true,
      "rowLimit": 10000
     },
     "inputWidgets": {},
     "nuid": "1f908f47-6c32-455b-9f77-3b53d9dd59f4",
     "showTitle": false,
     "tableResultSettingsMap": {},
     "title": ""
    }
   },
   "outputs": [],
   "source": [
    "spark.sql(\"\"\"\n",
    "MERGE INTO CAPM_Metrics AS target\n",
    "USING updates AS source\n",
    "ON target.Metric_Date = source.Metric_Date\n",
    "WHEN MATCHED THEN UPDATE SET\n",
    "  target.Beta_3_Years = source.Beta_3_Years,\n",
    "  target.CAPM_3_Years = source.CAPM_3_Years,\n",
    "  target.Actual_3_Years_Returns = source.Actual_3_Years_Returns,\n",
    "  target.Beta_1_Year = source.Beta_1_Year,\n",
    "  target.CAPM_1_Year = source.CAPM_1_Year,\n",
    "  target.Actual_1_Year_Return = source.Actual_1_Year_Return\n",
    "WHEN NOT MATCHED THEN\n",
    "INSERT (Metric_Date,Beta_3_Years, CAPM_3_Years, Actual_3_Years_Returns,Beta_1_Year, CAPM_1_Year, Actual_1_Year_Return)\n",
    "VALUES (source.Metric_Date, source.Beta_3_Years,source.CAPM_3_Years, source.Actual_3_Years_Returns,source.Beta_1_Year, source.CAPM_1_Year, source.Actual_1_Year_Return)\n",
    "\"\"\")"
   ]
  },
  {
   "cell_type": "code",
   "execution_count": 0,
   "metadata": {
    "application/vnd.databricks.v1+cell": {
     "cellMetadata": {
      "byteLimit": 2048000,
      "implicitDf": true,
      "rowLimit": 10000
     },
     "inputWidgets": {},
     "nuid": "3d57a566-1d87-4c82-b7ba-98cf91b478ab",
     "showTitle": false,
     "tableResultSettingsMap": {},
     "title": ""
    }
   },
   "outputs": [],
   "source": [
    "%sql\n",
    "select * \n",
    "from CAPM_Metrics"
   ]
  },
  {
   "cell_type": "code",
   "execution_count": 0,
   "metadata": {
    "application/vnd.databricks.v1+cell": {
     "cellMetadata": {
      "byteLimit": 2048000,
      "rowLimit": 10000
     },
     "inputWidgets": {},
     "nuid": "98612c16-fd23-4eaf-8fa4-8ed7e501d3bf",
     "showTitle": false,
     "tableResultSettingsMap": {},
     "title": ""
    }
   },
   "outputs": [],
   "source": [
    "#Calculate Market Returns for the past 1 year\n",
    "#Latest_Market_Price=df2['Sensex_Close'].iloc[-1]\n",
    "#Latest_Traded_Date=df2['Date'].iloc[-1]\n",
    "#print(Latest_Traded_Date,Latest_Market_Price)"
   ]
  },
  {
   "cell_type": "code",
   "execution_count": 0,
   "metadata": {
    "application/vnd.databricks.v1+cell": {
     "cellMetadata": {
      "byteLimit": 2048000,
      "rowLimit": 10000
     },
     "inputWidgets": {},
     "nuid": "f2dd1674-3a8e-469b-8f2d-a65a46c63927",
     "showTitle": false,
     "tableResultSettingsMap": {},
     "title": ""
    }
   },
   "outputs": [],
   "source": []
  },
  {
   "cell_type": "code",
   "execution_count": 0,
   "metadata": {
    "application/vnd.databricks.v1+cell": {
     "cellMetadata": {
      "byteLimit": 2048000,
      "rowLimit": 10000
     },
     "inputWidgets": {},
     "nuid": "fb9b73c3-b873-4a6e-a3c2-54842b7ec000",
     "showTitle": false,
     "tableResultSettingsMap": {},
     "title": ""
    }
   },
   "outputs": [],
   "source": [
    "#Latest_Stock_Price=df1['Close_Price'].iloc[-1]\n",
    "#One_Year_Ago_Stock_Price=df1[df1['Date']<=One_Year_Ago_Date].iloc[-1]\n",
    "#One_Year_Ago_Stock_Price=One_Year_Ago_Stock_Price['Close_Price']\n",
    "#One_Year_Ago_Stock_Return=((Latest_Stock_Price/One_Year_Ago_Stock_Price -1)*100).round(3)\n",
    "#print(One_Year_Ago_Stock_Return)"
   ]
  },
  {
   "cell_type": "code",
   "execution_count": 0,
   "metadata": {
    "application/vnd.databricks.v1+cell": {
     "cellMetadata": {
      "byteLimit": 2048000,
      "implicitDf": true,
      "rowLimit": 10000
     },
     "inputWidgets": {},
     "nuid": "9375c5cf-3873-4b70-88b2-f1b4287da4d8",
     "showTitle": false,
     "tableResultSettingsMap": {},
     "title": ""
    }
   },
   "outputs": [],
   "source": [
    "%sql\n",
    "--select Sensex_Close\n",
    "--from Market\n",
    "--where Date='2024-08-02'"
   ]
  },
  {
   "cell_type": "code",
   "execution_count": 0,
   "metadata": {
    "application/vnd.databricks.v1+cell": {
     "cellMetadata": {
      "byteLimit": 2048000,
      "rowLimit": 10000
     },
     "inputWidgets": {},
     "nuid": "10ca217f-ed76-4799-b7d9-b9a5fe3a93a1",
     "showTitle": false,
     "tableResultSettingsMap": {},
     "title": ""
    }
   },
   "outputs": [],
   "source": []
  }
 ],
 "metadata": {
  "application/vnd.databricks.v1+notebook": {
   "computePreferences": {
    "hardware": {
     "accelerator": null,
     "gpuPoolId": null,
     "memory": null
    }
   },
   "dashboards": [],
   "environmentMetadata": {
    "base_environment": "",
    "environment_version": "2"
   },
   "inputWidgetPreferences": null,
   "language": "python",
   "notebookMetadata": {
    "mostRecentlyExecutedCommandWithImplicitDF": {
     "commandId": 6538474961595629,
     "dataframes": [
      "_sqldf"
     ]
    },
    "pythonIndentUnit": 4
   },
   "notebookName": "CAPM Notebook 2025-08-04 16:56:46",
   "widgets": {}
  },
  "language_info": {
   "name": "python"
  }
 },
 "nbformat": 4,
 "nbformat_minor": 0
}
