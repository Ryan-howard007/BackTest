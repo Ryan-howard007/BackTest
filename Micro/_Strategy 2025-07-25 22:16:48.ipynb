{
 "cells": [
  {
   "cell_type": "code",
   "execution_count": 0,
   "metadata": {
    "application/vnd.databricks.v1+cell": {
     "cellMetadata": {
      "byteLimit": 2048000,
      "rowLimit": 10000
     },
     "inputWidgets": {},
     "nuid": "52ba8cb7-604b-42f0-8056-0a8e13e73ab0",
     "showTitle": false,
     "tableResultSettingsMap": {},
     "title": ""
    }
   },
   "outputs": [],
   "source": [
    "import pandas as pd\n",
    "import numpy as np"
   ]
  },
  {
   "cell_type": "code",
   "execution_count": 0,
   "metadata": {
    "application/vnd.databricks.v1+cell": {
     "cellMetadata": {
      "byteLimit": 2048000,
      "rowLimit": 10000
     },
     "inputWidgets": {},
     "nuid": "786fcea5-dde7-4d2c-9956-bea6b4a9fd0a",
     "showTitle": false,
     "tableResultSettingsMap": {},
     "title": ""
    }
   },
   "outputs": [],
   "source": [
    "spark.catalog.setCurrentDatabase(\"default\")"
   ]
  },
  {
   "cell_type": "code",
   "execution_count": 0,
   "metadata": {
    "application/vnd.databricks.v1+cell": {
     "cellMetadata": {
      "byteLimit": 2048000,
      "rowLimit": 10000
     },
     "inputWidgets": {},
     "nuid": "a12825a6-1987-4c1a-a561-d418cf4c66c7",
     "showTitle": false,
     "tableResultSettingsMap": {},
     "title": ""
    }
   },
   "outputs": [],
   "source": [
    "#SMA Cross Over \n",
    "\n",
    "# Converting Table to Dataframe\n",
    "df=spark.table('sw_hot_table').toPandas()\n",
    "df=df.sort_values(\"Date\").reset_index(drop=True)\n",
    "\n",
    "# Creating SMA\n",
    "df['SMA_50']=df['Close_Price'].rolling(window=50).mean()\n",
    "df['SMA_200']=df['Close_Price'].rolling(window=200).mean()\n",
    "\n",
    "#SMA Strategy\n",
    "df['SMA_Signal']=0\n",
    "df.loc[(df['SMA_50']>df['SMA_200']) & (df['SMA_50'].shift(1)<=df['SMA_200'].shift(1)),'SMA_Signal']=1\n",
    "\n",
    "df['SMA_Position']=np.where(df['SMA_50']>df['SMA_200'],1,0)\n",
    "\n",
    "df['Daily_Returns']=df['Close_Price'].pct_change()\n",
    "df['Cum_Daily_Returns']=((df['Daily_Returns']/100+1).cumprod()-1)*100\n",
    "\n",
    "df['SMA_Strategy']=(df['Daily_Returns']*df['SMA_Position'])\n",
    "df['Cum_SMA_Strategy']=((df['SMA_Strategy']+1).cumprod()-1)\n",
    "\n",
    "#df['Missed_SMA_Strategy_Pct']=np.where(df['SMA_Position']==0,df['Daily_Returns'],0)\n",
    "#df['Cum_Missed_SMA_Strategy']=(df['Missed_SMA_Strategy_Pct']+1).cumprod()\n",
    "#df['Missed_SMA_Strategy_Pct'].plot()"
   ]
  },
  {
   "cell_type": "code",
   "execution_count": 0,
   "metadata": {
    "application/vnd.databricks.v1+cell": {
     "cellMetadata": {
      "byteLimit": 2048000,
      "rowLimit": 10000
     },
     "inputWidgets": {},
     "nuid": "97f135ee-40df-44e1-a725-91b0d30074c8",
     "showTitle": false,
     "tableResultSettingsMap": {},
     "title": ""
    }
   },
   "outputs": [],
   "source": [
    "#EMA Strategy\n",
    "\n",
    "df['EMA_50']=df['Close_Price'].ewm(span=50, adjust=False, min_periods=50).mean()\n",
    "df['EMA_200']=df['Close_Price'].ewm(span=200,adjust=False,min_periods=200).mean()\n",
    "\n",
    "df['SMA_Signal']=0\n",
    "df.loc[(df['SMA_50']>df['SMA_200']) & (df['SMA_50'].shift(1)<=df['SMA_200'].shift(1)),'SMA_Signal']=1\n",
    "\n",
    "df['EMA_Position']=np.where(df['EMA_50']>df['EMA_200'],1,0)\n",
    "df['EMA_Position_Returns']=df['Daily_Returns']*df['EMA_Position']\n",
    "\n",
    "df['Cum_EMA_Strategy']=((df['EMA_Position_Returns']+1).cumprod()-1)*100\n",
    "display(df['Cum_EMA_Strategy'])"
   ]
  },
  {
   "cell_type": "code",
   "execution_count": 0,
   "metadata": {
    "application/vnd.databricks.v1+cell": {
     "cellMetadata": {
      "byteLimit": 2048000,
      "implicitDf": true,
      "rowLimit": 10000
     },
     "inputWidgets": {},
     "nuid": "7528a254-75ed-444a-9963-796c58431455",
     "showTitle": false,
     "tableResultSettingsMap": {},
     "title": ""
    }
   },
   "outputs": [],
   "source": [
    "df['TR_Pct']=(df['Close_Price'].diff()/df['Close_Price'].shift(1)).abs()*100\n",
    "df['ATR_Pct']=df['TR_Pct'].rolling(14).mean()\n",
    "df['ATR_SMA_Position']=0\n",
    "threshold_median=df['ATR_Pct'].median()\n",
    "df['ATR_SMA_Position']=df.loc[(df['SMA_50']>df['SMA_200'])&(df['ATR_Pct']>threshold_median),'ATR_SMA_Position']=1\n",
    "\n",
    "df['ATR_SMA_Strategy']=df['Daily_Returns']*df['ATR_SMA_Position']/100\n",
    "df['Cum_ATR_SMA_Strategy']=((df['ATR_SMA_Strategy']+1).cumprod()-1)*100"
   ]
  },
  {
   "cell_type": "code",
   "execution_count": 0,
   "metadata": {
    "application/vnd.databricks.v1+cell": {
     "cellMetadata": {
      "byteLimit": 2048000,
      "rowLimit": 10000
     },
     "inputWidgets": {},
     "nuid": "5e9de169-cce5-454c-9ceb-9f4a894ada7e",
     "showTitle": false,
     "tableResultSettingsMap": {},
     "title": ""
    }
   },
   "outputs": [],
   "source": [
    "#Bollinger Band Strategy\n",
    "\n",
    "df['Middle_Band']=df['Close_Price'].rolling(window=20).mean()\n",
    "#df['Upper_Band']=df['Middle_Band']+(2*(df['Middle_Band'].rolling(window=20).std()))\n",
    "df['Lower_Band']=df['Middle_Band']-(2*df['Middle_Band'].rolling(window=20).std())"
   ]
  },
  {
   "cell_type": "code",
   "execution_count": 0,
   "metadata": {
    "application/vnd.databricks.v1+cell": {
     "cellMetadata": {
      "byteLimit": 2048000,
      "rowLimit": 10000
     },
     "inputWidgets": {},
     "nuid": "59c52aab-ebbb-40e3-866e-afeba77f71da",
     "showTitle": false,
     "tableResultSettingsMap": {},
     "title": ""
    }
   },
   "outputs": [],
   "source": [
    "#2. Momentum Entry Strategy\n",
    "df['BB_Signal']=0\n",
    "df.loc[ (df['Close_Price']>df['Lower_Band']) & (df['Close_Price'].shift(1)<=df['Lower_Band'].shift(1)),\"BB_Signal\"]=1\n",
    "\n",
    "df['BB_Position']=np.where(df['Close_Price']>df['Lower_Band'],1,0)\n",
    "\n",
    "df['BB_Strategy']=(df['BB_Position']*df['Daily_Returns']/100)\n",
    "df['Cum_BB_Strategy']=((df['BB_Strategy']+1).cumprod()-1)*100\n",
    "\n",
    "df['Cum_BB_Strategy'].plot() #Almost double the return than normal returns !!"
   ]
  },
  {
   "cell_type": "code",
   "execution_count": 0,
   "metadata": {
    "application/vnd.databricks.v1+cell": {
     "cellMetadata": {
      "byteLimit": 2048000,
      "rowLimit": 10000
     },
     "inputWidgets": {},
     "nuid": "d08cccda-6fb8-402a-a588-8d97bff54efe",
     "showTitle": false,
     "tableResultSettingsMap": {},
     "title": ""
    }
   },
   "outputs": [],
   "source": [
    "df['ATR_BB_Position'] = 0\n",
    "df.loc[(df['Close_Price'] > df['Lower_Band']) & (df['ATR_Pct'] > threshold_median), 'ATR_BB_Position'] = 1\n",
    "\n",
    "df['ATR_BB_Strategy']=(df['ATR_BB_Position']*df['Daily_Returns']/100)\n",
    "df['Cum_ATR_BB_Strategy']=((df['ATR_BB_Strategy']+1).cumprod()-1)*100"
   ]
  },
  {
   "cell_type": "code",
   "execution_count": 0,
   "metadata": {
    "application/vnd.databricks.v1+cell": {
     "cellMetadata": {
      "byteLimit": 2048000,
      "rowLimit": 10000
     },
     "inputWidgets": {},
     "nuid": "f5dc6acf-7bd9-4c3c-9286-e07819d08013",
     "showTitle": false,
     "tableResultSettingsMap": {},
     "title": ""
    }
   },
   "outputs": [],
   "source": [
    "#RSI\n",
    "delta=df['Close_Price'].diff()\n",
    "gain=(delta.where(delta>0,0)).rolling(14).mean()\n",
    "loss=(-delta.where(delta<0,0)).rolling(14).mean()\n",
    "rs=gain/loss\n",
    "df['RSI']=100-(100/(1+rs))"
   ]
  },
  {
   "cell_type": "code",
   "execution_count": 0,
   "metadata": {
    "application/vnd.databricks.v1+cell": {
     "cellMetadata": {
      "byteLimit": 2048000,
      "rowLimit": 10000
     },
     "inputWidgets": {},
     "nuid": "c37fece3-b1f6-42f9-92ef-922a6f65dc6b",
     "showTitle": false,
     "tableResultSettingsMap": {},
     "title": ""
    }
   },
   "outputs": [],
   "source": [
    "#MACD\n",
    "def MACD(data,fast_period,slow_period,signal_line):\n",
    "    EMA_Fast=data['Close_Price'].ewm(span=fast_period,adjust=False).mean()\n",
    "    EMA_Slow=data['Close_Price'].ewm(span=slow_period,adjust=False).mean()\n",
    "    MACD=EMA_Fast-EMA_Slow\n",
    "    MACD_Signal=MACD.ewm(span=signal_line,adjust=False).mean()\n",
    "    return MACD,MACD_Signal\n",
    "\n",
    "df['Monthly_MACD'], df['Monthly_MACD_Signal'] = MACD(df, 22, 12, 6)\n",
    "# Bi-Monthly MACD\n",
    "df['Bi_Monthly_MACD'], df['Bi_Monthly_MACD_Signal'] = MACD(df, 39, 19, 9)\n",
    "#display(df)\n"
   ]
  },
  {
   "cell_type": "code",
   "execution_count": 0,
   "metadata": {
    "application/vnd.databricks.v1+cell": {
     "cellMetadata": {
      "byteLimit": 2048000,
      "rowLimit": 10000
     },
     "inputWidgets": {},
     "nuid": "1d9ea136-a567-4d6d-95f4-d234a7f27075",
     "showTitle": false,
     "tableResultSettingsMap": {},
     "title": ""
    }
   },
   "outputs": [],
   "source": [
    "#Monthly MACD + RSI (<70)\n",
    "df['Monthly_MACD_Position']=np.where((df['Monthly_MACD']>df['Monthly_MACD_Signal']) & (df['RSI']<70),1,0)\n",
    "df['Monthly_MACD_Strategy']=df['Daily_Returns']*df['Monthly_MACD_Position'].shift(1)\n",
    "df['Cumulative_Monthly_MACD_Strategy']=((1+df['Monthly_MACD_Strategy']).cumprod()-1)*100\n",
    "\n",
    "#Bi_Monthly MACD + RSI (<70)\n",
    "df['Bi_Monthly_MACD_Position']=np.where((df['Bi_Monthly_MACD']>df['Bi_Monthly_MACD_Signal']) & (df['RSI']<70),1,0)\n",
    "df['Bi_Monthly_MACD_Strategy']=df['Daily_Returns']*df['Bi_Monthly_MACD_Position'].shift(1)\n",
    "df['Cumulative_Bi_Monthly_MACD_Strategy']=((1+df['Bi_Monthly_MACD_Strategy']).cumprod()-1)*100\n",
    "\n",
    "#Only RSI (<70)\n",
    "df['RSI_Position']=np.where(df['RSI']<70,1,0)\n",
    "df['RSI_Strategy']=df['Daily_Returns']*df['RSI_Position'].shift(1)\n",
    "df['Cumulative_RSI_Strategy']=((1+df['RSI_Strategy']).cumprod()-1)*100"
   ]
  },
  {
   "cell_type": "code",
   "execution_count": 0,
   "metadata": {
    "application/vnd.databricks.v1+cell": {
     "cellMetadata": {
      "byteLimit": 2048000,
      "rowLimit": 10000
     },
     "inputWidgets": {},
     "nuid": "4db0c6a6-a828-4192-a276-eab94799fbb4",
     "showTitle": false,
     "tableResultSettingsMap": {},
     "title": ""
    }
   },
   "outputs": [],
   "source": [
    "#spark_df=spark.createDataFrame(df)\n",
    "#spark_df.write.mode(\"overwrite\").option(\"mergeSchema\",\"true\").saveAsTable(\"_sw_strategy\")"
   ]
  },
  {
   "cell_type": "code",
   "execution_count": 0,
   "metadata": {
    "application/vnd.databricks.v1+cell": {
     "cellMetadata": {
      "byteLimit": 2048000,
      "implicitDf": true,
      "rowLimit": 10000
     },
     "inputWidgets": {},
     "nuid": "9e2bf4ef-b6f3-4645-9fa9-5e886c354c4c",
     "showTitle": false,
     "tableResultSettingsMap": {},
     "title": ""
    }
   },
   "outputs": [],
   "source": [
    "%sql\n",
    "--with combined_table as (\n",
    "--select Date, Close_Price \n",
    "--from sw_Cold_table sct\n",
    "--where Year>2021\n",
    "--union all\n",
    "--select Date, Close_Price\n",
    "--from sw_Hot_table sht\n",
    "--where Year<2026\n",
    "--)\n",
    "--select percentile_approx(return_pct,0.01) as VaR_99\n",
    "--from (\n",
    "--select round((Close_Price-lag(Close_Price) over (order by Date))*100/lag(Close_Price) over (order by Date),2) \n",
    "--as return_pct\n",
    "--from combined_table \n",
    "--)\n",
    "--order by Date;"
   ]
  },
  {
   "cell_type": "code",
   "execution_count": 0,
   "metadata": {
    "application/vnd.databricks.v1+cell": {
     "cellMetadata": {
      "byteLimit": 2048000,
      "rowLimit": 10000
     },
     "inputWidgets": {},
     "nuid": "7750b662-528c-46c5-8208-06472238e528",
     "showTitle": false,
     "tableResultSettingsMap": {},
     "title": ""
    }
   },
   "outputs": [],
   "source": [
    "#from pyspark.sql import functions as F\n",
    "\n",
    "#strategy_sw=spark.createDataFrame(df)\n",
    "#strategy_sw=strategy_sw.withColumn('Year',F.year('Date')).withColumn('Month',F.month('Date'))\n",
    "#(\n",
    " #   strategy_sw.write.format(\"delta\").mode(\"overwrite\").option(\"overwriteSchema\",\"true\").partitionBy(\"year\",\"month\").saveAsTable(\"_sw_strategy\")\n",
    "#)"
   ]
  },
  {
   "cell_type": "code",
   "execution_count": 0,
   "metadata": {
    "application/vnd.databricks.v1+cell": {
     "cellMetadata": {
      "byteLimit": 2048000,
      "implicitDf": true,
      "rowLimit": 10000
     },
     "inputWidgets": {},
     "nuid": "489d2c5a-5eae-4d42-9e49-209f3a83046b",
     "showTitle": false,
     "tableResultSettingsMap": {},
     "title": ""
    }
   },
   "outputs": [],
   "source": [
    "%sql\n",
    "\n",
    "select min(Date) as least_date,max(Date) as max_date\n",
    " from _sw_strategy;"
   ]
  },
  {
   "cell_type": "code",
   "execution_count": 0,
   "metadata": {
    "application/vnd.databricks.v1+cell": {
     "cellMetadata": {
      "byteLimit": 2048000,
      "implicitDf": true,
      "rowLimit": 10000
     },
     "inputWidgets": {},
     "nuid": "e925d30d-095c-446d-8edf-944e768199b2",
     "showTitle": false,
     "tableResultSettingsMap": {},
     "title": ""
    }
   },
   "outputs": [],
   "source": [
    "%sql\n",
    "describe _sw_strategy"
   ]
  },
  {
   "cell_type": "code",
   "execution_count": 0,
   "metadata": {
    "application/vnd.databricks.v1+cell": {
     "cellMetadata": {
      "byteLimit": 2048000,
      "rowLimit": 10000
     },
     "inputWidgets": {},
     "nuid": "126c3fbe-b58f-46ad-b9df-179ce760b3e5",
     "showTitle": false,
     "tableResultSettingsMap": {},
     "title": ""
    }
   },
   "outputs": [],
   "source": [
    "#print(df.columns.tolist())"
   ]
  }
 ],
 "metadata": {
  "application/vnd.databricks.v1+notebook": {
   "computePreferences": {
    "hardware": {
     "accelerator": null,
     "gpuPoolId": null,
     "memory": null
    }
   },
   "dashboards": [],
   "environmentMetadata": {
    "base_environment": "",
    "environment_version": "3"
   },
   "inputWidgetPreferences": null,
   "language": "python",
   "notebookMetadata": {
    "mostRecentlyExecutedCommandWithImplicitDF": {
     "commandId": 7725476033644790,
     "dataframes": [
      "_sqldf"
     ]
    },
    "pythonIndentUnit": 4
   },
   "notebookName": "_Strategy 2025-07-25 22:16:48",
   "widgets": {}
  },
  "language_info": {
   "name": "python"
  }
 },
 "nbformat": 4,
 "nbformat_minor": 0
}
