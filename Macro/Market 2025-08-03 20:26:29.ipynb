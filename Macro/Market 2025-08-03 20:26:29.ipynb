{
 "cells": [
  {
   "cell_type": "code",
   "execution_count": 0,
   "metadata": {
    "application/vnd.databricks.v1+cell": {
     "cellMetadata": {
      "byteLimit": 2048000,
      "rowLimit": 10000
     },
     "inputWidgets": {},
     "nuid": "dc1dd26c-d4cf-42a1-9f2f-b7612801d135",
     "showTitle": false,
     "tableResultSettingsMap": {},
     "title": ""
    }
   },
   "outputs": [],
   "source": [
    "pip install yfinance"
   ]
  },
  {
   "cell_type": "code",
   "execution_count": 0,
   "metadata": {
    "application/vnd.databricks.v1+cell": {
     "cellMetadata": {
      "byteLimit": 2048000,
      "rowLimit": 10000
     },
     "inputWidgets": {},
     "nuid": "0fb108cf-4ce6-4b53-affd-478d1658f8f9",
     "showTitle": false,
     "tableResultSettingsMap": {},
     "title": ""
    }
   },
   "outputs": [],
   "source": [
    "import pandas as pd\n",
    "import yfinance as yf\n",
    "from datetime import datetime, timedelta"
   ]
  },
  {
   "cell_type": "code",
   "execution_count": 0,
   "metadata": {
    "application/vnd.databricks.v1+cell": {
     "cellMetadata": {
      "byteLimit": 2048000,
      "rowLimit": 10000
     },
     "inputWidgets": {},
     "nuid": "24579fdb-c503-4536-8805-b6c07cc3a434",
     "showTitle": false,
     "tableResultSettingsMap": {},
     "title": ""
    }
   },
   "outputs": [],
   "source": [
    "spark.catalog.setCurrentDatabase(\"default\")"
   ]
  },
  {
   "cell_type": "code",
   "execution_count": 0,
   "metadata": {
    "application/vnd.databricks.v1+cell": {
     "cellMetadata": {
      "byteLimit": 2048000,
      "rowLimit": 10000
     },
     "inputWidgets": {},
     "nuid": "7800a5fd-1113-4f42-94db-3bf9add439e4",
     "showTitle": false,
     "tableResultSettingsMap": {},
     "title": ""
    }
   },
   "outputs": [],
   "source": [
    "cnt=spark.sql(\"Select max(Date) from Market\").first()[0]\n",
    "if cnt is None:\n",
    "    start = datetime(2022, 8, 1).date()\n",
    "    end=(datetime.now()+timedelta(days=1)).date()\n",
    "    print(\"Hola\")\n",
    "else:\n",
    "    start=spark.sql(\"Select max(Date) from Market\").first()[0]\n",
    "    end=(datetime.now()+timedelta(days=1)).date()\n",
    "    print(\"Regular\")\n",
    "sn=yf.download(\"^BSESN\",start=start,end=end)\n",
    "sn.reset_index(inplace=True)\n",
    "sn.columns=[col[0] if isinstance(col,tuple) else col for col in sn.columns]\n",
    "sn=sn[[\"Date\",\"Close\"]].copy()\n",
    "sn.rename(columns={\"Close\":\"Sensex_Close\"},inplace=True)\n",
    "sn[\"Date\"]=sn[\"Date\"].dt.date\n",
    "sn[\"Sensex_Close\"]=sn[\"Sensex_Close\"].round(2)\n",
    "sn[\"Year\"]=pd.to_datetime(sn[\"Date\"]).dt.year\n",
    "sn[\"Month\"]=pd.to_datetime(sn[\"Date\"]).dt.month\n",
    "sn=spark.createDataFrame(sn)\n",
    "sn.createOrReplaceTempView(\"new_data_sn\")"
   ]
  },
  {
   "cell_type": "code",
   "execution_count": 0,
   "metadata": {
    "application/vnd.databricks.v1+cell": {
     "cellMetadata": {
      "byteLimit": 2048000,
      "implicitDf": true,
      "rowLimit": 10000
     },
     "inputWidgets": {},
     "nuid": "44ccca93-ae99-4ae1-a654-a9d1325a2f1a",
     "showTitle": false,
     "tableResultSettingsMap": {},
     "title": ""
    }
   },
   "outputs": [],
   "source": [
    "%sql\n",
    "--ALTER TABLE Market SET TBLPROPERTIES (\n",
    "  --'delta.minReaderVersion' = '2',\n",
    "  --'delta.minWriterVersion' = '5',\n",
    "  --'delta.columnMapping.mode' = 'name'\n",
    "--);\n",
    "\n",
    "--alter table Market drop columns (Sensex_Daily_Returns);\n",
    "--create table Market(\n",
    "  --Date DATE,\n",
    "  --Sensex_Close double,\n",
    "  --Year int,\n",
    "  --Month int\n",
    "--) using delta\n",
    "--partitioned by (Year,Month)"
   ]
  },
  {
   "cell_type": "code",
   "execution_count": 0,
   "metadata": {
    "application/vnd.databricks.v1+cell": {
     "cellMetadata": {
      "byteLimit": 2048000,
      "implicitDf": true,
      "rowLimit": 10000
     },
     "inputWidgets": {},
     "nuid": "de6196da-bd39-4a2b-b855-4ff1d5a08f90",
     "showTitle": false,
     "tableResultSettingsMap": {},
     "title": ""
    }
   },
   "outputs": [],
   "source": [
    "%sql \n",
    "merge into Market target\n",
    "using new_data_sn source\n",
    "on source.Date=target.Date\n",
    "when matched then\n",
    "update set target.Sensex_Close=source.Sensex_Close\n",
    "when not matched then\n",
    "insert (Date,Sensex_Close,Year,Month) values (source.Date,source.Sensex_Close,source.Year,source.Month) "
   ]
  },
  {
   "cell_type": "code",
   "execution_count": 0,
   "metadata": {
    "application/vnd.databricks.v1+cell": {
     "cellMetadata": {
      "byteLimit": 2048000,
      "implicitDf": true,
      "rowLimit": 10000
     },
     "inputWidgets": {},
     "nuid": "b5f117bf-8256-4a80-b854-096658479684",
     "showTitle": false,
     "tableResultSettingsMap": {},
     "title": ""
    }
   },
   "outputs": [],
   "source": [
    "%sql\n",
    "select Date,Sensex_Close\n",
    "from Market\n",
    "order by Date\n",
    "limit 10;"
   ]
  },
  {
   "cell_type": "code",
   "execution_count": 0,
   "metadata": {
    "application/vnd.databricks.v1+cell": {
     "cellMetadata": {
      "byteLimit": 2048000,
      "rowLimit": 10000
     },
     "inputWidgets": {},
     "nuid": "d0ad0c69-d286-48e5-adf8-f337a40e1440",
     "showTitle": false,
     "tableResultSettingsMap": {},
     "title": ""
    }
   },
   "outputs": [],
   "source": []
  }
 ],
 "metadata": {
  "application/vnd.databricks.v1+notebook": {
   "computePreferences": null,
   "dashboards": [],
   "environmentMetadata": {
    "base_environment": "",
    "environment_version": "2"
   },
   "inputWidgetPreferences": null,
   "language": "python",
   "notebookMetadata": {
    "mostRecentlyExecutedCommandWithImplicitDF": {
     "commandId": 8615856704163183,
     "dataframes": [
      "_sqldf"
     ]
    },
    "pythonIndentUnit": 4
   },
   "notebookName": "Market 2025-08-03 20:26:29",
   "widgets": {}
  },
  "language_info": {
   "name": "python"
  }
 },
 "nbformat": 4,
 "nbformat_minor": 0
}
