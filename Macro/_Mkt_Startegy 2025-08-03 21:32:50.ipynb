{
 "cells": [
  {
   "cell_type": "code",
   "execution_count": 0,
   "metadata": {
    "application/vnd.databricks.v1+cell": {
     "cellMetadata": {
      "byteLimit": 2048000,
      "rowLimit": 10000
     },
     "inputWidgets": {},
     "nuid": "424a5536-c18a-4e6c-8c4c-3168f233d317",
     "showTitle": false,
     "tableResultSettingsMap": {},
     "title": ""
    }
   },
   "outputs": [],
   "source": [
    "import numpy as np"
   ]
  },
  {
   "cell_type": "code",
   "execution_count": 0,
   "metadata": {
    "application/vnd.databricks.v1+cell": {
     "cellMetadata": {
      "byteLimit": 2048000,
      "rowLimit": 10000
     },
     "inputWidgets": {},
     "nuid": "f03ec101-b9b8-4896-8ed4-c32ceac6ad05",
     "showTitle": false,
     "tableResultSettingsMap": {},
     "title": ""
    }
   },
   "outputs": [],
   "source": [
    "spark.catalog.setCurrentDatabase(\"default\")"
   ]
  },
  {
   "cell_type": "code",
   "execution_count": 0,
   "metadata": {
    "application/vnd.databricks.v1+cell": {
     "cellMetadata": {
      "byteLimit": 2048000,
      "rowLimit": 10000
     },
     "inputWidgets": {},
     "nuid": "93d49adb-ec77-4c24-853c-98faefeacb96",
     "showTitle": false,
     "tableResultSettingsMap": {},
     "title": ""
    }
   },
   "outputs": [],
   "source": [
    "df=spark.table(\"Market\").toPandas()\n",
    "df=df.sort_values('Date').reset_index(drop=True)\n",
    "\n",
    "df['Sensex_SMA_50']=df['Sensex_Close'].rolling(50).mean()\n",
    "df['Sensex_SMA_200']=df['Sensex_Close'].rolling(200).mean()\n",
    "df['Sensex_SMA_Signal']=0\n",
    "df.loc[( (df['Sensex_SMA_50'] > df['Sensex_SMA_200']) & (df['Sensex_SMA_50'].shift(1) <= df['Sensex_SMA_200'].shift(1)) ), 'Sensex_SMA_Signal'] = 1\n",
    "df['Sensex_SMA_Position']=np.where(df['Sensex_SMA_50']>df['Sensex_SMA_200'],1,0)\n",
    "df['Sensex_Daily_Returns']=df['Sensex_Close'].pct_change()\n",
    "df['Sensex_Cum_Daily_Returns']=(df['Sensex_Daily_Returns']+1).cumprod()\n",
    "\n",
    "df['Sensex_SMA_Strategy']=df['Sensex_Daily_Returns']*df['Sensex_SMA_Position']\n",
    "df['Sensex_Cum_SMA_Strategy']=(df['Sensex_SMA_Strategy']+1).cumprod()\n"
   ]
  },
  {
   "cell_type": "code",
   "execution_count": 0,
   "metadata": {
    "application/vnd.databricks.v1+cell": {
     "cellMetadata": {
      "byteLimit": 2048000,
      "rowLimit": 10000
     },
     "inputWidgets": {},
     "nuid": "4a1ddda9-7b04-46c0-bc91-fbfa4c357fe9",
     "showTitle": false,
     "tableResultSettingsMap": {},
     "title": ""
    }
   },
   "outputs": [],
   "source": [
    "df['Sensex_TR_Pct']=(df['Sensex_Close'].diff()/df['Sensex_Close'].shift(1)).abs()*100\n",
    "df['Sensex_ATR_Pct']=df['Sensex_TR_Pct'].rolling(14).mean()\n",
    "df['Sensex_ATR_Position']=0\n",
    "threshold=df['Sensex_ATR_Pct'].median()\n",
    "df.loc[(df['Sensex_SMA_50']>df['Sensex_SMA_200']) & (df['Sensex_TR_Pct']>threshold),'Sensex_ATR_Position']=1"
   ]
  },
  {
   "cell_type": "code",
   "execution_count": 0,
   "metadata": {
    "application/vnd.databricks.v1+cell": {
     "cellMetadata": {
      "byteLimit": 2048000,
      "rowLimit": 10000
     },
     "inputWidgets": {},
     "nuid": "bf99fc4e-f3ee-4a0b-b57f-6f3fb483ebe3",
     "showTitle": false,
     "tableResultSettingsMap": {},
     "title": ""
    }
   },
   "outputs": [],
   "source": [
    "df['Sensex_Middle_Band']=df['Sensex_Close'].rolling(20).mean()\n",
    "df['Sensex_Lower_Band']=df['Sensex_Middle_Band']-(2*(df['Sensex_Middle_Band'].rolling(20).std()))\n",
    "\n",
    "#Reversion Based (Ignoring Upper & Middle Band CrossOvers)\n",
    "df['Sensex_BB_Signal_Rev']=0\n",
    "df.loc[((df['Sensex_Close']<df['Sensex_Lower_Band'])&(df['Sensex_Close'].shift(1)>=df['Sensex_Lower_Band'].shift(1))),'Sensex_BB_Signal_Rev']=1\n",
    "df['Sensex_BB_Position_Rev']=np.where(df['Sensex_Close']<df['Sensex_Lower_Band'],1,0)\n",
    "df['Sensex_BB_Strategy_Rev']=df['Sensex_Daily_Returns']*df['Sensex_BB_Position_Rev']\n",
    "df['Sensex_Cum_BB_Strategy_Rev']=(df['Sensex_BB_Strategy_Rev']+1).cumprod()\n",
    "\n",
    "#Momentum Based (Ignoring Upper & Middle Band CrossOvers)\n",
    "df['Sensex_BB_Signal']=0\n",
    "df.loc[((df['Sensex_Close']>df['Sensex_Lower_Band'])&(df['Sensex_Close'].shift(1)<=df['Sensex_Lower_Band'].shift(1))),'Sensex_BB_Signal']=1\n",
    "df['Sensex_BB_Strategy']=df['Sensex_Daily_Returns']*df['Sensex_BB_Signal']\n",
    "df['Sensex_Cum_BB_Strategy']=(df['Sensex_BB_Strategy']+1).cumprod()"
   ]
  },
  {
   "cell_type": "code",
   "execution_count": 0,
   "metadata": {
    "application/vnd.databricks.v1+cell": {
     "cellMetadata": {
      "byteLimit": 2048000,
      "rowLimit": 10000
     },
     "inputWidgets": {},
     "nuid": "56bd073d-9390-4075-871e-a497c987ec1e",
     "showTitle": false,
     "tableResultSettingsMap": {},
     "title": ""
    }
   },
   "outputs": [],
   "source": [
    "df['Sensex_ATR_BB_Position'] = 0\n",
    "df.loc[(df['Sensex_Close'] > df['Sensex_Lower_Band']) & (df['Sensex_ATR_Pct'] > threshold), 'Sensex_ATR_BB_Position'] = 1\n",
    "\n",
    "df['Sensex_ATR_BB_Strategy']=(df['Sensex_ATR_BB_Position']*df['Sensex_Daily_Returns'])\n",
    "df['Sensex_Cum_ATR_BB_Strategy']=(df['Sensex_ATR_BB_Strategy']+1).cumprod()"
   ]
  },
  {
   "cell_type": "code",
   "execution_count": 0,
   "metadata": {
    "application/vnd.databricks.v1+cell": {
     "cellMetadata": {
      "byteLimit": 2048000,
      "rowLimit": 10000
     },
     "inputWidgets": {},
     "nuid": "9779faf7-544f-41fd-b56a-f94dd091f114",
     "showTitle": false,
     "tableResultSettingsMap": {},
     "title": ""
    }
   },
   "outputs": [],
   "source": [
    "from pyspark.sql import functions as F\n",
    "\n",
    "strategy_sen=spark.createDataFrame(df)\n",
    "strategy_sen=strategy_sen.withColumn('Year',F.year('Date')).withColumn('Month',F.month('Date'))\n",
    "(\n",
    "    strategy_sen.write.format(\"delta\").mode(\"overwrite\").option(\"overwriteSchema\",\"true\").partitionBy(\"year\",\"month\").saveAsTable(\"sen_strategy\")\n",
    ")"
   ]
  },
  {
   "cell_type": "code",
   "execution_count": 0,
   "metadata": {
    "application/vnd.databricks.v1+cell": {
     "cellMetadata": {
      "byteLimit": 2048000,
      "implicitDf": true,
      "rowLimit": 10000
     },
     "inputWidgets": {},
     "nuid": "a0ed8e6b-6eaa-4d8c-8628-32fc2249bffb",
     "showTitle": false,
     "tableResultSettingsMap": {},
     "title": ""
    }
   },
   "outputs": [],
   "source": [
    "%sql\n",
    "describe sen_strategy"
   ]
  },
  {
   "cell_type": "code",
   "execution_count": 0,
   "metadata": {
    "application/vnd.databricks.v1+cell": {
     "cellMetadata": {
      "byteLimit": 2048000,
      "rowLimit": 10000
     },
     "inputWidgets": {},
     "nuid": "390855d3-5a3a-4842-8efc-37036ac403d4",
     "showTitle": false,
     "tableResultSettingsMap": {},
     "title": ""
    }
   },
   "outputs": [],
   "source": []
  }
 ],
 "metadata": {
  "application/vnd.databricks.v1+notebook": {
   "computePreferences": null,
   "dashboards": [],
   "environmentMetadata": {
    "base_environment": "",
    "environment_version": "2"
   },
   "inputWidgetPreferences": null,
   "language": "python",
   "notebookMetadata": {
    "mostRecentlyExecutedCommandWithImplicitDF": {
     "commandId": 7913268080422965,
     "dataframes": [
      "_sqldf"
     ]
    },
    "pythonIndentUnit": 4
   },
   "notebookName": "_Mkt_Startegy 2025-08-03 21:32:50",
   "widgets": {}
  },
  "language_info": {
   "name": "python"
  }
 },
 "nbformat": 4,
 "nbformat_minor": 0
}
